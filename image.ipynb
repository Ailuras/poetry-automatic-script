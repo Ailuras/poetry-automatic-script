{
 "cells": [
  {
   "cell_type": "code",
   "execution_count": null,
   "metadata": {},
   "outputs": [],
   "source": [
    "import pyautogui\n",
    "sizex,sizey=pyautogui.size() \n",
    "pyautogui.moveTo(sizex/2,sizey/2,duration=1)"
   ]
  },
  {
   "cell_type": "code",
   "execution_count": null,
   "metadata": {},
   "outputs": [],
   "source": [
    "# 案例获取鼠标的位置，方便复制我们定位的鼠标坐标点到代码中\n",
    "import pyautogui\n",
    "import time\n",
    "# 获取鼠标位置\n",
    "def get_mouse_positon():\n",
    "    time.sleep(5) # 准备时间\n",
    "    print('开始获取鼠标位置')\n",
    "    try:\n",
    "        for i in range(10):\n",
    "        # Get and print the mouse coordinates.\n",
    "            x, y = pyautogui.position()\n",
    "            positionStr = '鼠标坐标点（X,Y）为：{},{}'.format(str(x).rjust(4), str(y).rjust(4))\n",
    "            pix = pyautogui.screenshot().getpixel((x, y)) # 获取鼠标所在屏幕点的RGB颜色\n",
    "            positionStr += ' RGB:(' + str(pix[0]).rjust(3) + ',' + str(pix[1]).rjust(3) + ',' + str(pix[2]).rjust(3) + ')'\n",
    "            print(positionStr)\n",
    "            time.sleep(0.5) # 停顿时间\n",
    "    except:\n",
    "        print('获取鼠标位置失败')\n",
    "\n",
    "get_mouse_positon()"
   ]
  },
  {
   "cell_type": "code",
   "execution_count": null,
   "metadata": {},
   "outputs": [],
   "source": [
    "import pyautogui\n",
    "import time\n",
    "\n",
    "st = time.time()\n",
    "b = pyautogui.locateOnScreen('file.jpg')\n",
    "ed = time.time()\n",
    "\n",
    "if b != None:\n",
    "    print(ed - st)\n",
    "    print('b')\n",
    "    print(b)\n",
    "    # pyautogui.moveTo((b[0]+b[2]/2), (b[1]+b[3]/2), duration=1)\n",
    "    pyautogui.moveTo(b[0]+b[2]/2, b[1]+b[3]/2)\n",
    "    pyautogui.doubleClick()"
   ]
  },
  {
   "cell_type": "code",
   "execution_count": null,
   "metadata": {},
   "outputs": [],
   "source": [
    "import pyautogui\n",
    "import time\n",
    "\n",
    "# fw1 = pyautogui.getActiveWindow()\n",
    "# fw1.center\n",
    "\n",
    "fw = pyautogui.getWindowsWithTitle('火拼') \n",
    "\n",
    "if len(fw) > 0:\n",
    "    fw = fw[0]\n",
    "    fw.width = 518\n",
    "    fw.height = 920\n",
    "    fw.topleft = (340, 40)\n",
    "\n",
    "    try:\n",
    "        fw.activate()\n",
    "    except:\n",
    "        fw.minimize()\n",
    "        fw.restore()\n",
    "\n",
    "    fw1 = pyautogui.getActiveWindow() \n",
    "    pyautogui.moveTo(370, 915)\n",
    "    pyautogui.click()\n",
    "    for i in range(10):\n",
    "        pyautogui.hotkey('alt', str(i))\n",
    "        pyautogui.press('enter')\n",
    "\n",
    "\n",
    "# fw.minimize()\n",
    "# fw.restore()\n",
    "\n",
    "# time.sleep(2)\n",
    "\n",
    "# fw.activate()\n",
    "# pyautogui.moveTo(fw.center)\n",
    "\n",
    "# fw = pyautogui.getActiveWindow() \n",
    "# # fw1.center\n",
    "# pyautogui.moveTo(fw.center)"
   ]
  },
  {
   "cell_type": "code",
   "execution_count": null,
   "metadata": {},
   "outputs": [],
   "source": []
  },
  {
   "cell_type": "code",
   "execution_count": null,
   "metadata": {},
   "outputs": [],
   "source": [
    "Paste('hh')"
   ]
  }
 ],
 "metadata": {
  "interpreter": {
   "hash": "b3ba2566441a7c06988d0923437866b63cedc61552a5af99d1f4fb67d367b25f"
  },
  "kernelspec": {
   "display_name": "Python 3.8.5 ('base')",
   "language": "python",
   "name": "python3"
  },
  "language_info": {
   "codemirror_mode": {
    "name": "ipython",
    "version": 3
   },
   "file_extension": ".py",
   "mimetype": "text/x-python",
   "name": "python",
   "nbconvert_exporter": "python",
   "pygments_lexer": "ipython3",
   "version": "3.10.4"
  },
  "orig_nbformat": 4
 },
 "nbformat": 4,
 "nbformat_minor": 2
}
