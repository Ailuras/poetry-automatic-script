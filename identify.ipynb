{
 "cells": [
  {
   "cell_type": "code",
   "execution_count": 4,
   "metadata": {},
   "outputs": [
    {
     "name": "stderr",
     "output_type": "stream",
     "text": [
      "[WARNING 2022-04-09 20:41:44,321 _showwarnmsg:109] C:\\Users\\hrcarryu\\AppData\\Local\\Packages\\PythonSoftwareFoundation.Python.3.10_qbz5n2kfra8p0\\LocalCache\\local-packages\\Python310\\site-packages\\cnocr\\models\\ocr_model.py:194: UserWarning: __floordiv__ is deprecated, and its behavior will change in a future version of pytorch. It currently rounds toward 0 (like the 'trunc' function NOT 'floor'). This results in incorrect rounding for negative values. To keep the current behavior, use torch.div(a, b, rounding_mode='trunc'), or for actual floor division, use torch.div(a, b, rounding_mode='floor').\n",
      "  input_lengths = input_lengths // self.encoder.compress_ratio\n",
      " \n"
     ]
    },
    {
     "name": "stdout",
     "output_type": "stream",
     "text": [
      "不】\n"
     ]
    }
   ],
   "source": [
    "from cnocr import CnOcr\n",
    "import pyautogui\n",
    "\n",
    "# fw = pyautogui.getWindowsWithTitle('火') \n",
    "# if len(fw) > 0:\n",
    "#     fw = fw[0]\n",
    "#     fw.width = 518\n",
    "#     fw.height = 920\n",
    "#     fw.topleft = (340, 40)\n",
    "#     try:\n",
    "#         fw.activate()\n",
    "#     except:\n",
    "#         fw.minimize()\n",
    "#         fw.restore()\n",
    "#     time.sleep(0.5)\n",
    "#     im = pyautogui.screenshot('test.png', region=(422, 222, 200, 33))\n",
    "\n",
    "\n",
    "ocr = CnOcr() \n",
    "res = ocr.ocr_for_single_line('test.png') \n",
    "a = res[0][1]\n",
    "a += res[0][2]\n",
    "print(a)"
   ]
  },
  {
   "cell_type": "code",
   "execution_count": 12,
   "metadata": {},
   "outputs": [
    {
     "name": "stdout",
     "output_type": "stream",
     "text": [
      "开始获取鼠标位置\n",
      "鼠标坐标点（X,Y）为： 422, 221 RGB:(227,237,205)\n",
      "鼠标坐标点（X,Y）为： 422, 221 RGB:(227,237,205)\n",
      "鼠标坐标点（X,Y）为： 422, 221 RGB:(227,237,205)\n",
      "鼠标坐标点（X,Y）为： 422, 221 RGB:(227,237,205)\n",
      "鼠标坐标点（X,Y）为： 422, 221 RGB:(227,237,205)\n",
      "鼠标坐标点（X,Y）为： 422, 221 RGB:(227,237,205)\n",
      "鼠标坐标点（X,Y）为： 629, 221 RGB:(227,237,205)\n",
      "鼠标坐标点（X,Y）为： 628, 221 RGB:(227,237,205)\n",
      "鼠标坐标点（X,Y）为： 626, 224 RGB:(227,237,205)\n",
      "鼠标坐标点（X,Y）为： 595, 225 RGB:(227,237,205)\n"
     ]
    }
   ],
   "source": [
    "import pyautogui\n",
    "import time\n",
    "# 获取鼠标位置\n",
    "def get_mouse_positon():\n",
    "    time.sleep(5) # 准备时间\n",
    "    print('开始获取鼠标位置')\n",
    "    try:\n",
    "        for i in range(10):\n",
    "        # Get and print the mouse coordinates.\n",
    "            x, y = pyautogui.position()\n",
    "            positionStr = '鼠标坐标点（X,Y）为：{},{}'.format(str(x).rjust(4), str(y).rjust(4))\n",
    "            pix = pyautogui.screenshot().getpixel((x, y)) # 获取鼠标所在屏幕点的RGB颜色\n",
    "            positionStr += ' RGB:(' + str(pix[0]).rjust(3) + ',' + str(pix[1]).rjust(3) + ',' + str(pix[2]).rjust(3) + ')'\n",
    "            print(positionStr)\n",
    "            time.sleep(0.5) # 停顿时间\n",
    "    except:\n",
    "        print('获取鼠标位置失败')\n",
    "\n",
    "get_mouse_positon()"
   ]
  }
 ],
 "metadata": {
  "interpreter": {
   "hash": "0b0d7f34dea53bcca550a9c894fbb6929dd06d6b39bf29b3529cd878a3f91f59"
  },
  "kernelspec": {
   "display_name": "Python 3.10.4 64-bit (windows store)",
   "language": "python",
   "name": "python3"
  },
  "language_info": {
   "codemirror_mode": {
    "name": "ipython",
    "version": 3
   },
   "file_extension": ".py",
   "mimetype": "text/x-python",
   "name": "python",
   "nbconvert_exporter": "python",
   "pygments_lexer": "ipython3",
   "version": "3.10.4"
  },
  "orig_nbformat": 4
 },
 "nbformat": 4,
 "nbformat_minor": 2
}
